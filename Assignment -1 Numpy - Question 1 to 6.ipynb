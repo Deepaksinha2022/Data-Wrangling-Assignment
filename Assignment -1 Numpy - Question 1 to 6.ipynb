{
 "cells": [
  {
   "cell_type": "markdown",
   "id": "82dacb06",
   "metadata": {},
   "source": [
    "## Assignement 1 Questions 1 to 6"
   ]
  },
  {
   "cell_type": "markdown",
   "id": "52955d16",
   "metadata": {},
   "source": [
    "## 1. Create a null vector of size 10 but the fifth value which is 1."
   ]
  },
  {
   "cell_type": "code",
   "execution_count": 2,
   "id": "8912b3ec",
   "metadata": {},
   "outputs": [
    {
     "data": {
      "text/plain": [
       "array([0., 0., 0., 0., 1., 0., 0., 0., 0., 0.])"
      ]
     },
     "execution_count": 2,
     "metadata": {},
     "output_type": "execute_result"
    }
   ],
   "source": [
    "import numpy as np\n",
    "\n",
    "z = np.zeros(10)\n",
    "z[4] = 1\n",
    "z"
   ]
  },
  {
   "cell_type": "markdown",
   "id": "ab33a9a2",
   "metadata": {},
   "source": [
    "## 2. Create a vector with values ranging from 10 to 49."
   ]
  },
  {
   "cell_type": "code",
   "execution_count": 3,
   "id": "393c49fa",
   "metadata": {},
   "outputs": [
    {
     "data": {
      "text/plain": [
       "array([10, 11, 12, 13, 14, 15, 16, 17, 18, 19, 20, 21, 22, 23, 24, 25, 26,\n",
       "       27, 28, 29, 30, 31, 32, 33, 34, 35, 36, 37, 38, 39, 40, 41, 42, 43,\n",
       "       44, 45, 46, 47, 48, 49])"
      ]
     },
     "execution_count": 3,
     "metadata": {},
     "output_type": "execute_result"
    }
   ],
   "source": [
    "r = np.arange(10,50)\n",
    "r"
   ]
  },
  {
   "cell_type": "markdown",
   "id": "ee0c4845",
   "metadata": {},
   "source": [
    "## 3. Create a 3x3 matrix with values ranging from 0 to 8"
   ]
  },
  {
   "cell_type": "code",
   "execution_count": 4,
   "id": "a82c07bf",
   "metadata": {},
   "outputs": [
    {
     "data": {
      "text/plain": [
       "array([[[0, 1, 2]],\n",
       "\n",
       "       [[3, 4, 5]],\n",
       "\n",
       "       [[6, 7, 8]]])"
      ]
     },
     "execution_count": 4,
     "metadata": {},
     "output_type": "execute_result"
    }
   ],
   "source": [
    "mat = np.arange(0,9).reshape(3,1,3)\n",
    "mat"
   ]
  },
  {
   "cell_type": "markdown",
   "id": "2f433691",
   "metadata": {},
   "source": [
    "## 4. Find indices of non-zero elements from [1,2,0,0,4,0]"
   ]
  },
  {
   "cell_type": "code",
   "execution_count": 8,
   "id": "c7341816",
   "metadata": {},
   "outputs": [
    {
     "data": {
      "text/plain": [
       "(array([0, 1, 4], dtype=int64),)"
      ]
     },
     "execution_count": 8,
     "metadata": {},
     "output_type": "execute_result"
    }
   ],
   "source": [
    "arr = [1,2,0,0,4,0]\n",
    "# for i in range(len(arr)-1):\n",
    "#     if arr[i]!=0:\n",
    "#         print(i)\n",
    "\n",
    "nonzero = np.nonzero(arr)\n",
    "nonzero"
   ]
  },
  {
   "cell_type": "markdown",
   "id": "1b02e83b",
   "metadata": {},
   "source": [
    "## 5. Create a 10x10 array with random values and find the minimum and maximum values."
   ]
  },
  {
   "cell_type": "code",
   "execution_count": 16,
   "id": "04ea9950",
   "metadata": {},
   "outputs": [
    {
     "name": "stdout",
     "output_type": "stream",
     "text": [
      "[[73 51 14 52 98 18 61 64 31 30]\n",
      " [95 65 12 10  5 79 75 43 72 93]\n",
      " [37 78 33  5  8 74 36 63 89 84]\n",
      " [78 80 93 78 19 30 88 72 84 62]\n",
      " [ 7  3 46 17 31 86 48 43 72 45]\n",
      " [28 49 66 53 47 10 27 68 62  0]\n",
      " [28  6 21 35 45 93 22 58 24 12]\n",
      " [80  8  4 96 30 55 63 62 17 66]\n",
      " [50 98 98 65 37  2  0 67 32  5]\n",
      " [35 43 78  3 83 10 56 14 28 58]]\n",
      "Maximum Values :  98\n",
      "Minimum Values :  0\n"
     ]
    }
   ],
   "source": [
    "import random\n",
    "arr = np.random.randint((100),size = (10,10))\n",
    "print(arr)\n",
    "min = arr.min()\n",
    "max = arr.max()\n",
    "print(\"Maximum Values : \",max)\n",
    "print(\"Minimum Values : \",min )"
   ]
  }
 ],
 "metadata": {
  "kernelspec": {
   "display_name": "Python 3 (ipykernel)",
   "language": "python",
   "name": "python3"
  },
  "language_info": {
   "codemirror_mode": {
    "name": "ipython",
    "version": 3
   },
   "file_extension": ".py",
   "mimetype": "text/x-python",
   "name": "python",
   "nbconvert_exporter": "python",
   "pygments_lexer": "ipython3",
   "version": "3.9.12"
  }
 },
 "nbformat": 4,
 "nbformat_minor": 5
}
